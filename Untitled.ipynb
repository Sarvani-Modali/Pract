{
 "cells": [
  {
   "cell_type": "code",
   "execution_count": 1,
   "metadata": {},
   "outputs": [],
   "source": [
    "#import os\n",
    "import nltk\n",
    "#import nltk.corpus"
   ]
  },
  {
   "cell_type": "code",
   "execution_count": 2,
   "metadata": {},
   "outputs": [],
   "source": [
    "w=\"\"\"Lorem ipsum dolor sit amet, his an quis sonet perfecto, agam detraxit ad mea, in iudicabit scribentur vis. Ius eripuit comprehensam ei. Ad sit mutat sanctus mandamus, verear accumsan usu an. Nam vero cetero constituto no, ut ludus decore tamquam sit. Has zril mucius persequeris eu. Ex per oblique inimicus elaboraret, nam quod aperiam convenire no. Eos ei omnium corpora, vel inermis inciderint an, ei novum viris eos.\n",
    "\n",
    "At doctus labores per, no postea lucilius vel, ut mel noster assentior contentiones. Te ludus mollis habemus ius. Ne suscipit maiestatis sed, per no vide graece inimicus, sea liber lobortis cu. Te eam elit minimum, eum quot atqui oportere ut, no commodo indoctum tincidunt eam. No utinam tincidunt scribentur has, quas scaevola necessitatibus duo te.\n",
    "\n",
    "Sit ex legere ignota sensibus, mei quas epicuri no, vix ea errem suscipiantur. Quaeque necessitatibus et his. Has at soluta facilis. Ne eripuit minimum qui, malis partiendo liberavisse in est, eum quem alterum ex. Eum et aliquando interesset, cum an vidisse adversarium neglegentur. Vel aliquip tincidunt adversarium no.\n",
    "\n",
    "Oporteat perfecto antiopam ei vel, ex sed dissentiet signiferumque. Tempor perpetua at mea, usu laudem vocent reformidans at. No quo feugait propriae laboramus, veri prima graece id vix, an eius petentium vis. Est odio minim mucius id, volumus verterem ius id.\n",
    "\n",
    "Eu paulo lucilius eleifend vim, case electram moderatius sea id. Nec semper expetenda in. Has no quem laudem alienum, ei iriure vidisse disputationi has, at sint lucilius vel. Ad nihil labitur prodesset mei, ad dicat noluisse cum. Has cetero placerat eu, pro fuisset repudiare at. Diceret mediocrem concludaturque mea id, est aliquam salutandi euripidis in. Ne qui nihil tacimates, paulo periculis instructior et sea.\"\"\""
   ]
  },
  {
   "cell_type": "code",
   "execution_count": 3,
   "metadata": {},
   "outputs": [
    {
     "data": {
      "text/plain": [
       "str"
      ]
     },
     "execution_count": 3,
     "metadata": {},
     "output_type": "execute_result"
    }
   ],
   "source": [
    "type(w)"
   ]
  },
  {
   "cell_type": "code",
   "execution_count": 4,
   "metadata": {},
   "outputs": [],
   "source": [
    "from nltk.tokenize import word_tokenize"
   ]
  },
  {
   "cell_type": "code",
   "execution_count": 5,
   "metadata": {},
   "outputs": [
    {
     "data": {
      "text/plain": [
       "['Lorem',\n",
       " 'ipsum',\n",
       " 'dolor',\n",
       " 'sit',\n",
       " 'amet',\n",
       " ',',\n",
       " 'his',\n",
       " 'an',\n",
       " 'quis',\n",
       " 'sonet',\n",
       " 'perfecto',\n",
       " ',',\n",
       " 'agam',\n",
       " 'detraxit',\n",
       " 'ad',\n",
       " 'mea',\n",
       " ',',\n",
       " 'in',\n",
       " 'iudicabit',\n",
       " 'scribentur',\n",
       " 'vis',\n",
       " '.',\n",
       " 'Ius',\n",
       " 'eripuit',\n",
       " 'comprehensam',\n",
       " 'ei',\n",
       " '.',\n",
       " 'Ad',\n",
       " 'sit',\n",
       " 'mutat',\n",
       " 'sanctus',\n",
       " 'mandamus',\n",
       " ',',\n",
       " 'verear',\n",
       " 'accumsan',\n",
       " 'usu',\n",
       " 'an',\n",
       " '.',\n",
       " 'Nam',\n",
       " 'vero',\n",
       " 'cetero',\n",
       " 'constituto',\n",
       " 'no',\n",
       " ',',\n",
       " 'ut',\n",
       " 'ludus',\n",
       " 'decore',\n",
       " 'tamquam',\n",
       " 'sit',\n",
       " '.',\n",
       " 'Has',\n",
       " 'zril',\n",
       " 'mucius',\n",
       " 'persequeris',\n",
       " 'eu',\n",
       " '.',\n",
       " 'Ex',\n",
       " 'per',\n",
       " 'oblique',\n",
       " 'inimicus',\n",
       " 'elaboraret',\n",
       " ',',\n",
       " 'nam',\n",
       " 'quod',\n",
       " 'aperiam',\n",
       " 'convenire',\n",
       " 'no',\n",
       " '.',\n",
       " 'Eos',\n",
       " 'ei',\n",
       " 'omnium',\n",
       " 'corpora',\n",
       " ',',\n",
       " 'vel',\n",
       " 'inermis',\n",
       " 'inciderint',\n",
       " 'an',\n",
       " ',',\n",
       " 'ei',\n",
       " 'novum',\n",
       " 'viris',\n",
       " 'eos',\n",
       " '.',\n",
       " 'At',\n",
       " 'doctus',\n",
       " 'labores',\n",
       " 'per',\n",
       " ',',\n",
       " 'no',\n",
       " 'postea',\n",
       " 'lucilius',\n",
       " 'vel',\n",
       " ',',\n",
       " 'ut',\n",
       " 'mel',\n",
       " 'noster',\n",
       " 'assentior',\n",
       " 'contentiones',\n",
       " '.',\n",
       " 'Te',\n",
       " 'ludus',\n",
       " 'mollis',\n",
       " 'habemus',\n",
       " 'ius',\n",
       " '.',\n",
       " 'Ne',\n",
       " 'suscipit',\n",
       " 'maiestatis',\n",
       " 'sed',\n",
       " ',',\n",
       " 'per',\n",
       " 'no',\n",
       " 'vide',\n",
       " 'graece',\n",
       " 'inimicus',\n",
       " ',',\n",
       " 'sea',\n",
       " 'liber',\n",
       " 'lobortis',\n",
       " 'cu',\n",
       " '.',\n",
       " 'Te',\n",
       " 'eam',\n",
       " 'elit',\n",
       " 'minimum',\n",
       " ',',\n",
       " 'eum',\n",
       " 'quot',\n",
       " 'atqui',\n",
       " 'oportere',\n",
       " 'ut',\n",
       " ',',\n",
       " 'no',\n",
       " 'commodo',\n",
       " 'indoctum',\n",
       " 'tincidunt',\n",
       " 'eam',\n",
       " '.',\n",
       " 'No',\n",
       " 'utinam',\n",
       " 'tincidunt',\n",
       " 'scribentur',\n",
       " 'has',\n",
       " ',',\n",
       " 'quas',\n",
       " 'scaevola',\n",
       " 'necessitatibus',\n",
       " 'duo',\n",
       " 'te',\n",
       " '.',\n",
       " 'Sit',\n",
       " 'ex',\n",
       " 'legere',\n",
       " 'ignota',\n",
       " 'sensibus',\n",
       " ',',\n",
       " 'mei',\n",
       " 'quas',\n",
       " 'epicuri',\n",
       " 'no',\n",
       " ',',\n",
       " 'vix',\n",
       " 'ea',\n",
       " 'errem',\n",
       " 'suscipiantur',\n",
       " '.',\n",
       " 'Quaeque',\n",
       " 'necessitatibus',\n",
       " 'et',\n",
       " 'his',\n",
       " '.',\n",
       " 'Has',\n",
       " 'at',\n",
       " 'soluta',\n",
       " 'facilis',\n",
       " '.',\n",
       " 'Ne',\n",
       " 'eripuit',\n",
       " 'minimum',\n",
       " 'qui',\n",
       " ',',\n",
       " 'malis',\n",
       " 'partiendo',\n",
       " 'liberavisse',\n",
       " 'in',\n",
       " 'est',\n",
       " ',',\n",
       " 'eum',\n",
       " 'quem',\n",
       " 'alterum',\n",
       " 'ex',\n",
       " '.',\n",
       " 'Eum',\n",
       " 'et',\n",
       " 'aliquando',\n",
       " 'interesset',\n",
       " ',',\n",
       " 'cum',\n",
       " 'an',\n",
       " 'vidisse',\n",
       " 'adversarium',\n",
       " 'neglegentur',\n",
       " '.',\n",
       " 'Vel',\n",
       " 'aliquip',\n",
       " 'tincidunt',\n",
       " 'adversarium',\n",
       " 'no',\n",
       " '.',\n",
       " 'Oporteat',\n",
       " 'perfecto',\n",
       " 'antiopam',\n",
       " 'ei',\n",
       " 'vel',\n",
       " ',',\n",
       " 'ex',\n",
       " 'sed',\n",
       " 'dissentiet',\n",
       " 'signiferumque',\n",
       " '.',\n",
       " 'Tempor',\n",
       " 'perpetua',\n",
       " 'at',\n",
       " 'mea',\n",
       " ',',\n",
       " 'usu',\n",
       " 'laudem',\n",
       " 'vocent',\n",
       " 'reformidans',\n",
       " 'at',\n",
       " '.',\n",
       " 'No',\n",
       " 'quo',\n",
       " 'feugait',\n",
       " 'propriae',\n",
       " 'laboramus',\n",
       " ',',\n",
       " 'veri',\n",
       " 'prima',\n",
       " 'graece',\n",
       " 'id',\n",
       " 'vix',\n",
       " ',',\n",
       " 'an',\n",
       " 'eius',\n",
       " 'petentium',\n",
       " 'vis',\n",
       " '.',\n",
       " 'Est',\n",
       " 'odio',\n",
       " 'minim',\n",
       " 'mucius',\n",
       " 'id',\n",
       " ',',\n",
       " 'volumus',\n",
       " 'verterem',\n",
       " 'ius',\n",
       " 'id',\n",
       " '.',\n",
       " 'Eu',\n",
       " 'paulo',\n",
       " 'lucilius',\n",
       " 'eleifend',\n",
       " 'vim',\n",
       " ',',\n",
       " 'case',\n",
       " 'electram',\n",
       " 'moderatius',\n",
       " 'sea',\n",
       " 'id',\n",
       " '.',\n",
       " 'Nec',\n",
       " 'semper',\n",
       " 'expetenda',\n",
       " 'in',\n",
       " '.',\n",
       " 'Has',\n",
       " 'no',\n",
       " 'quem',\n",
       " 'laudem',\n",
       " 'alienum',\n",
       " ',',\n",
       " 'ei',\n",
       " 'iriure',\n",
       " 'vidisse',\n",
       " 'disputationi',\n",
       " 'has',\n",
       " ',',\n",
       " 'at',\n",
       " 'sint',\n",
       " 'lucilius',\n",
       " 'vel',\n",
       " '.',\n",
       " 'Ad',\n",
       " 'nihil',\n",
       " 'labitur',\n",
       " 'prodesset',\n",
       " 'mei',\n",
       " ',',\n",
       " 'ad',\n",
       " 'dicat',\n",
       " 'noluisse',\n",
       " 'cum',\n",
       " '.',\n",
       " 'Has',\n",
       " 'cetero',\n",
       " 'placerat',\n",
       " 'eu',\n",
       " ',',\n",
       " 'pro',\n",
       " 'fuisset',\n",
       " 'repudiare',\n",
       " 'at',\n",
       " '.',\n",
       " 'Diceret',\n",
       " 'mediocrem',\n",
       " 'concludaturque',\n",
       " 'mea',\n",
       " 'id',\n",
       " ',',\n",
       " 'est',\n",
       " 'aliquam',\n",
       " 'salutandi',\n",
       " 'euripidis',\n",
       " 'in',\n",
       " '.',\n",
       " 'Ne',\n",
       " 'qui',\n",
       " 'nihil',\n",
       " 'tacimates',\n",
       " ',',\n",
       " 'paulo',\n",
       " 'periculis',\n",
       " 'instructior',\n",
       " 'et',\n",
       " 'sea',\n",
       " '.']"
      ]
     },
     "execution_count": 5,
     "metadata": {},
     "output_type": "execute_result"
    }
   ],
   "source": [
    "w_token=word_tokenize(w)\n",
    "w_token"
   ]
  },
  {
   "cell_type": "code",
   "execution_count": 6,
   "metadata": {},
   "outputs": [
    {
     "data": {
      "text/plain": [
       "337"
      ]
     },
     "execution_count": 6,
     "metadata": {},
     "output_type": "execute_result"
    }
   ],
   "source": [
    "len(w_token)"
   ]
  },
  {
   "cell_type": "code",
   "execution_count": 7,
   "metadata": {},
   "outputs": [],
   "source": [
    "from nltk.probability import FreqDist"
   ]
  },
  {
   "cell_type": "code",
   "execution_count": 8,
   "metadata": {},
   "outputs": [],
   "source": [
    "fd=FreqDist()"
   ]
  },
  {
   "cell_type": "code",
   "execution_count": 9,
   "metadata": {},
   "outputs": [
    {
     "data": {
      "text/plain": [
       "FreqDist({',': 32, '.': 29, 'no': 10, 'has': 6, 'at': 6, 'an': 5, 'ei': 5, 'vel': 5, 'id': 5, 'sit': 4, ...})"
      ]
     },
     "execution_count": 9,
     "metadata": {},
     "output_type": "execute_result"
    }
   ],
   "source": [
    "for word in w_token:\n",
    "    fd[word.lower()]+=1\n",
    "fd"
   ]
  },
  {
   "cell_type": "code",
   "execution_count": 10,
   "metadata": {},
   "outputs": [
    {
     "data": {
      "text/plain": [
       "[(',', 32),\n",
       " ('.', 29),\n",
       " ('no', 10),\n",
       " ('has', 6),\n",
       " ('at', 6),\n",
       " ('an', 5),\n",
       " ('ei', 5),\n",
       " ('vel', 5),\n",
       " ('id', 5),\n",
       " ('sit', 4)]"
      ]
     },
     "execution_count": 10,
     "metadata": {},
     "output_type": "execute_result"
    }
   ],
   "source": [
    "fd10=fd.most_common(10)\n",
    "fd10"
   ]
  },
  {
   "cell_type": "code",
   "execution_count": 11,
   "metadata": {},
   "outputs": [],
   "source": [
    "from nltk.util import ngrams,bigrams,trigrams"
   ]
  },
  {
   "cell_type": "code",
   "execution_count": 12,
   "metadata": {},
   "outputs": [],
   "source": [
    "s=\"First of all, just getting to the theater presents difficulties. Leaving a home equipped with a TV and a video recorder isn't an attractive idea on a humid, cold, or rainy night.\""
   ]
  },
  {
   "cell_type": "code",
   "execution_count": 13,
   "metadata": {},
   "outputs": [
    {
     "data": {
      "text/plain": [
       "['First',\n",
       " 'of',\n",
       " 'all',\n",
       " ',',\n",
       " 'just',\n",
       " 'getting',\n",
       " 'to',\n",
       " 'the',\n",
       " 'theater',\n",
       " 'presents',\n",
       " 'difficulties',\n",
       " '.',\n",
       " 'Leaving',\n",
       " 'a',\n",
       " 'home',\n",
       " 'equipped',\n",
       " 'with',\n",
       " 'a',\n",
       " 'TV',\n",
       " 'and',\n",
       " 'a',\n",
       " 'video',\n",
       " 'recorder',\n",
       " 'is',\n",
       " \"n't\",\n",
       " 'an',\n",
       " 'attractive',\n",
       " 'idea',\n",
       " 'on',\n",
       " 'a',\n",
       " 'humid',\n",
       " ',',\n",
       " 'cold',\n",
       " ',',\n",
       " 'or',\n",
       " 'rainy',\n",
       " 'night',\n",
       " '.']"
      ]
     },
     "execution_count": 13,
     "metadata": {},
     "output_type": "execute_result"
    }
   ],
   "source": [
    "s_token=nltk.word_tokenize(s)\n",
    "s_token"
   ]
  },
  {
   "cell_type": "code",
   "execution_count": 14,
   "metadata": {},
   "outputs": [
    {
     "data": {
      "text/plain": [
       "[('First', 'of'),\n",
       " ('of', 'all'),\n",
       " ('all', ','),\n",
       " (',', 'just'),\n",
       " ('just', 'getting'),\n",
       " ('getting', 'to'),\n",
       " ('to', 'the'),\n",
       " ('the', 'theater'),\n",
       " ('theater', 'presents'),\n",
       " ('presents', 'difficulties'),\n",
       " ('difficulties', '.'),\n",
       " ('.', 'Leaving'),\n",
       " ('Leaving', 'a'),\n",
       " ('a', 'home'),\n",
       " ('home', 'equipped'),\n",
       " ('equipped', 'with'),\n",
       " ('with', 'a'),\n",
       " ('a', 'TV'),\n",
       " ('TV', 'and'),\n",
       " ('and', 'a'),\n",
       " ('a', 'video'),\n",
       " ('video', 'recorder'),\n",
       " ('recorder', 'is'),\n",
       " ('is', \"n't\"),\n",
       " (\"n't\", 'an'),\n",
       " ('an', 'attractive'),\n",
       " ('attractive', 'idea'),\n",
       " ('idea', 'on'),\n",
       " ('on', 'a'),\n",
       " ('a', 'humid'),\n",
       " ('humid', ','),\n",
       " (',', 'cold'),\n",
       " ('cold', ','),\n",
       " (',', 'or'),\n",
       " ('or', 'rainy'),\n",
       " ('rainy', 'night'),\n",
       " ('night', '.')]"
      ]
     },
     "execution_count": 14,
     "metadata": {},
     "output_type": "execute_result"
    }
   ],
   "source": [
    "s_bi=list(nltk.bigrams(s_token))\n",
    "s_bi"
   ]
  },
  {
   "cell_type": "code",
   "execution_count": 15,
   "metadata": {},
   "outputs": [
    {
     "data": {
      "text/plain": [
       "[('First', 'of', 'all'),\n",
       " ('of', 'all', ','),\n",
       " ('all', ',', 'just'),\n",
       " (',', 'just', 'getting'),\n",
       " ('just', 'getting', 'to'),\n",
       " ('getting', 'to', 'the'),\n",
       " ('to', 'the', 'theater'),\n",
       " ('the', 'theater', 'presents'),\n",
       " ('theater', 'presents', 'difficulties'),\n",
       " ('presents', 'difficulties', '.'),\n",
       " ('difficulties', '.', 'Leaving'),\n",
       " ('.', 'Leaving', 'a'),\n",
       " ('Leaving', 'a', 'home'),\n",
       " ('a', 'home', 'equipped'),\n",
       " ('home', 'equipped', 'with'),\n",
       " ('equipped', 'with', 'a'),\n",
       " ('with', 'a', 'TV'),\n",
       " ('a', 'TV', 'and'),\n",
       " ('TV', 'and', 'a'),\n",
       " ('and', 'a', 'video'),\n",
       " ('a', 'video', 'recorder'),\n",
       " ('video', 'recorder', 'is'),\n",
       " ('recorder', 'is', \"n't\"),\n",
       " ('is', \"n't\", 'an'),\n",
       " (\"n't\", 'an', 'attractive'),\n",
       " ('an', 'attractive', 'idea'),\n",
       " ('attractive', 'idea', 'on'),\n",
       " ('idea', 'on', 'a'),\n",
       " ('on', 'a', 'humid'),\n",
       " ('a', 'humid', ','),\n",
       " ('humid', ',', 'cold'),\n",
       " (',', 'cold', ','),\n",
       " ('cold', ',', 'or'),\n",
       " (',', 'or', 'rainy'),\n",
       " ('or', 'rainy', 'night'),\n",
       " ('rainy', 'night', '.')]"
      ]
     },
     "execution_count": 15,
     "metadata": {},
     "output_type": "execute_result"
    }
   ],
   "source": [
    "s_tri=list(nltk.trigrams(s_token))\n",
    "s_tri"
   ]
  },
  {
   "cell_type": "code",
   "execution_count": 16,
   "metadata": {},
   "outputs": [
    {
     "data": {
      "text/plain": [
       "[('First', 'of', 'all', ',', 'just'),\n",
       " ('of', 'all', ',', 'just', 'getting'),\n",
       " ('all', ',', 'just', 'getting', 'to'),\n",
       " (',', 'just', 'getting', 'to', 'the'),\n",
       " ('just', 'getting', 'to', 'the', 'theater'),\n",
       " ('getting', 'to', 'the', 'theater', 'presents'),\n",
       " ('to', 'the', 'theater', 'presents', 'difficulties'),\n",
       " ('the', 'theater', 'presents', 'difficulties', '.'),\n",
       " ('theater', 'presents', 'difficulties', '.', 'Leaving'),\n",
       " ('presents', 'difficulties', '.', 'Leaving', 'a'),\n",
       " ('difficulties', '.', 'Leaving', 'a', 'home'),\n",
       " ('.', 'Leaving', 'a', 'home', 'equipped'),\n",
       " ('Leaving', 'a', 'home', 'equipped', 'with'),\n",
       " ('a', 'home', 'equipped', 'with', 'a'),\n",
       " ('home', 'equipped', 'with', 'a', 'TV'),\n",
       " ('equipped', 'with', 'a', 'TV', 'and'),\n",
       " ('with', 'a', 'TV', 'and', 'a'),\n",
       " ('a', 'TV', 'and', 'a', 'video'),\n",
       " ('TV', 'and', 'a', 'video', 'recorder'),\n",
       " ('and', 'a', 'video', 'recorder', 'is'),\n",
       " ('a', 'video', 'recorder', 'is', \"n't\"),\n",
       " ('video', 'recorder', 'is', \"n't\", 'an'),\n",
       " ('recorder', 'is', \"n't\", 'an', 'attractive'),\n",
       " ('is', \"n't\", 'an', 'attractive', 'idea'),\n",
       " (\"n't\", 'an', 'attractive', 'idea', 'on'),\n",
       " ('an', 'attractive', 'idea', 'on', 'a'),\n",
       " ('attractive', 'idea', 'on', 'a', 'humid'),\n",
       " ('idea', 'on', 'a', 'humid', ','),\n",
       " ('on', 'a', 'humid', ',', 'cold'),\n",
       " ('a', 'humid', ',', 'cold', ','),\n",
       " ('humid', ',', 'cold', ',', 'or'),\n",
       " (',', 'cold', ',', 'or', 'rainy'),\n",
       " ('cold', ',', 'or', 'rainy', 'night'),\n",
       " (',', 'or', 'rainy', 'night', '.')]"
      ]
     },
     "execution_count": 16,
     "metadata": {},
     "output_type": "execute_result"
    }
   ],
   "source": [
    "s_ngram=list(nltk.ngrams(s_token,5))\n",
    "s_ngram"
   ]
  },
  {
   "cell_type": "code",
   "execution_count": 17,
   "metadata": {},
   "outputs": [],
   "source": [
    "from nltk.stem import PorterStemmer\n",
    "pst=PorterStemmer()"
   ]
  },
  {
   "cell_type": "code",
   "execution_count": 18,
   "metadata": {},
   "outputs": [
    {
     "data": {
      "text/plain": [
       "'give'"
      ]
     },
     "execution_count": 18,
     "metadata": {},
     "output_type": "execute_result"
    }
   ],
   "source": [
    "pst.stem(\"giving\")"
   ]
  },
  {
   "cell_type": "code",
   "execution_count": 24,
   "metadata": {},
   "outputs": [],
   "source": [
    "from nltk.corpus import stopwords"
   ]
  },
  {
   "cell_type": "code",
   "execution_count": 25,
   "metadata": {},
   "outputs": [
    {
     "data": {
      "text/plain": [
       "['i',\n",
       " 'me',\n",
       " 'my',\n",
       " 'myself',\n",
       " 'we',\n",
       " 'our',\n",
       " 'ours',\n",
       " 'ourselves',\n",
       " 'you',\n",
       " \"you're\",\n",
       " \"you've\",\n",
       " \"you'll\",\n",
       " \"you'd\",\n",
       " 'your',\n",
       " 'yours',\n",
       " 'yourself',\n",
       " 'yourselves',\n",
       " 'he',\n",
       " 'him',\n",
       " 'his',\n",
       " 'himself',\n",
       " 'she',\n",
       " \"she's\",\n",
       " 'her',\n",
       " 'hers',\n",
       " 'herself',\n",
       " 'it',\n",
       " \"it's\",\n",
       " 'its',\n",
       " 'itself',\n",
       " 'they',\n",
       " 'them',\n",
       " 'their',\n",
       " 'theirs',\n",
       " 'themselves',\n",
       " 'what',\n",
       " 'which',\n",
       " 'who',\n",
       " 'whom',\n",
       " 'this',\n",
       " 'that',\n",
       " \"that'll\",\n",
       " 'these',\n",
       " 'those',\n",
       " 'am',\n",
       " 'is',\n",
       " 'are',\n",
       " 'was',\n",
       " 'were',\n",
       " 'be',\n",
       " 'been',\n",
       " 'being',\n",
       " 'have',\n",
       " 'has',\n",
       " 'had',\n",
       " 'having',\n",
       " 'do',\n",
       " 'does',\n",
       " 'did',\n",
       " 'doing',\n",
       " 'a',\n",
       " 'an',\n",
       " 'the',\n",
       " 'and',\n",
       " 'but',\n",
       " 'if',\n",
       " 'or',\n",
       " 'because',\n",
       " 'as',\n",
       " 'until',\n",
       " 'while',\n",
       " 'of',\n",
       " 'at',\n",
       " 'by',\n",
       " 'for',\n",
       " 'with',\n",
       " 'about',\n",
       " 'against',\n",
       " 'between',\n",
       " 'into',\n",
       " 'through',\n",
       " 'during',\n",
       " 'before',\n",
       " 'after',\n",
       " 'above',\n",
       " 'below',\n",
       " 'to',\n",
       " 'from',\n",
       " 'up',\n",
       " 'down',\n",
       " 'in',\n",
       " 'out',\n",
       " 'on',\n",
       " 'off',\n",
       " 'over',\n",
       " 'under',\n",
       " 'again',\n",
       " 'further',\n",
       " 'then',\n",
       " 'once',\n",
       " 'here',\n",
       " 'there',\n",
       " 'when',\n",
       " 'where',\n",
       " 'why',\n",
       " 'how',\n",
       " 'all',\n",
       " 'any',\n",
       " 'both',\n",
       " 'each',\n",
       " 'few',\n",
       " 'more',\n",
       " 'most',\n",
       " 'other',\n",
       " 'some',\n",
       " 'such',\n",
       " 'no',\n",
       " 'nor',\n",
       " 'not',\n",
       " 'only',\n",
       " 'own',\n",
       " 'same',\n",
       " 'so',\n",
       " 'than',\n",
       " 'too',\n",
       " 'very',\n",
       " 's',\n",
       " 't',\n",
       " 'can',\n",
       " 'will',\n",
       " 'just',\n",
       " 'don',\n",
       " \"don't\",\n",
       " 'should',\n",
       " \"should've\",\n",
       " 'now',\n",
       " 'd',\n",
       " 'll',\n",
       " 'm',\n",
       " 'o',\n",
       " 're',\n",
       " 've',\n",
       " 'y',\n",
       " 'ain',\n",
       " 'aren',\n",
       " \"aren't\",\n",
       " 'couldn',\n",
       " \"couldn't\",\n",
       " 'didn',\n",
       " \"didn't\",\n",
       " 'doesn',\n",
       " \"doesn't\",\n",
       " 'hadn',\n",
       " \"hadn't\",\n",
       " 'hasn',\n",
       " \"hasn't\",\n",
       " 'haven',\n",
       " \"haven't\",\n",
       " 'isn',\n",
       " \"isn't\",\n",
       " 'ma',\n",
       " 'mightn',\n",
       " \"mightn't\",\n",
       " 'mustn',\n",
       " \"mustn't\",\n",
       " 'needn',\n",
       " \"needn't\",\n",
       " 'shan',\n",
       " \"shan't\",\n",
       " 'shouldn',\n",
       " \"shouldn't\",\n",
       " 'wasn',\n",
       " \"wasn't\",\n",
       " 'weren',\n",
       " \"weren't\",\n",
       " 'won',\n",
       " \"won't\",\n",
       " 'wouldn',\n",
       " \"wouldn't\"]"
      ]
     },
     "execution_count": 25,
     "metadata": {},
     "output_type": "execute_result"
    }
   ],
   "source": [
    "stopwords.words(\"english\")"
   ]
  },
  {
   "cell_type": "code",
   "execution_count": 26,
   "metadata": {},
   "outputs": [
    {
     "data": {
      "text/plain": [
       "179"
      ]
     },
     "execution_count": 26,
     "metadata": {},
     "output_type": "execute_result"
    }
   ],
   "source": [
    "len(stopwords.words(\"english\"))"
   ]
  },
  {
   "cell_type": "code",
   "execution_count": 27,
   "metadata": {},
   "outputs": [
    {
     "data": {
      "text/plain": [
       "[(',', 32),\n",
       " ('.', 29),\n",
       " ('no', 10),\n",
       " ('has', 6),\n",
       " ('at', 6),\n",
       " ('an', 5),\n",
       " ('ei', 5),\n",
       " ('vel', 5),\n",
       " ('id', 5),\n",
       " ('sit', 4)]"
      ]
     },
     "execution_count": 27,
     "metadata": {},
     "output_type": "execute_result"
    }
   ],
   "source": [
    "fd10"
   ]
  },
  {
   "cell_type": "code",
   "execution_count": 28,
   "metadata": {},
   "outputs": [],
   "source": [
    "import re"
   ]
  },
  {
   "cell_type": "code",
   "execution_count": 29,
   "metadata": {},
   "outputs": [],
   "source": [
    "punctuation=re.compile(r'[-.?!,:;()|0-9]')"
   ]
  },
  {
   "cell_type": "code",
   "execution_count": 30,
   "metadata": {},
   "outputs": [],
   "source": [
    "post_punctuation=[]\n",
    "for words in w_token:\n",
    "    word=punctuation.sub(\"\",words)\n",
    "    if len(word)>0:\n",
    "        post_punctuation.append(word)"
   ]
  },
  {
   "cell_type": "code",
   "execution_count": 31,
   "metadata": {},
   "outputs": [
    {
     "data": {
      "text/plain": [
       "['Lorem',\n",
       " 'ipsum',\n",
       " 'dolor',\n",
       " 'sit',\n",
       " 'amet',\n",
       " 'his',\n",
       " 'an',\n",
       " 'quis',\n",
       " 'sonet',\n",
       " 'perfecto',\n",
       " 'agam',\n",
       " 'detraxit',\n",
       " 'ad',\n",
       " 'mea',\n",
       " 'in',\n",
       " 'iudicabit',\n",
       " 'scribentur',\n",
       " 'vis',\n",
       " 'Ius',\n",
       " 'eripuit',\n",
       " 'comprehensam',\n",
       " 'ei',\n",
       " 'Ad',\n",
       " 'sit',\n",
       " 'mutat',\n",
       " 'sanctus',\n",
       " 'mandamus',\n",
       " 'verear',\n",
       " 'accumsan',\n",
       " 'usu',\n",
       " 'an',\n",
       " 'Nam',\n",
       " 'vero',\n",
       " 'cetero',\n",
       " 'constituto',\n",
       " 'no',\n",
       " 'ut',\n",
       " 'ludus',\n",
       " 'decore',\n",
       " 'tamquam',\n",
       " 'sit',\n",
       " 'Has',\n",
       " 'zril',\n",
       " 'mucius',\n",
       " 'persequeris',\n",
       " 'eu',\n",
       " 'Ex',\n",
       " 'per',\n",
       " 'oblique',\n",
       " 'inimicus',\n",
       " 'elaboraret',\n",
       " 'nam',\n",
       " 'quod',\n",
       " 'aperiam',\n",
       " 'convenire',\n",
       " 'no',\n",
       " 'Eos',\n",
       " 'ei',\n",
       " 'omnium',\n",
       " 'corpora',\n",
       " 'vel',\n",
       " 'inermis',\n",
       " 'inciderint',\n",
       " 'an',\n",
       " 'ei',\n",
       " 'novum',\n",
       " 'viris',\n",
       " 'eos',\n",
       " 'At',\n",
       " 'doctus',\n",
       " 'labores',\n",
       " 'per',\n",
       " 'no',\n",
       " 'postea',\n",
       " 'lucilius',\n",
       " 'vel',\n",
       " 'ut',\n",
       " 'mel',\n",
       " 'noster',\n",
       " 'assentior',\n",
       " 'contentiones',\n",
       " 'Te',\n",
       " 'ludus',\n",
       " 'mollis',\n",
       " 'habemus',\n",
       " 'ius',\n",
       " 'Ne',\n",
       " 'suscipit',\n",
       " 'maiestatis',\n",
       " 'sed',\n",
       " 'per',\n",
       " 'no',\n",
       " 'vide',\n",
       " 'graece',\n",
       " 'inimicus',\n",
       " 'sea',\n",
       " 'liber',\n",
       " 'lobortis',\n",
       " 'cu',\n",
       " 'Te',\n",
       " 'eam',\n",
       " 'elit',\n",
       " 'minimum',\n",
       " 'eum',\n",
       " 'quot',\n",
       " 'atqui',\n",
       " 'oportere',\n",
       " 'ut',\n",
       " 'no',\n",
       " 'commodo',\n",
       " 'indoctum',\n",
       " 'tincidunt',\n",
       " 'eam',\n",
       " 'No',\n",
       " 'utinam',\n",
       " 'tincidunt',\n",
       " 'scribentur',\n",
       " 'has',\n",
       " 'quas',\n",
       " 'scaevola',\n",
       " 'necessitatibus',\n",
       " 'duo',\n",
       " 'te',\n",
       " 'Sit',\n",
       " 'ex',\n",
       " 'legere',\n",
       " 'ignota',\n",
       " 'sensibus',\n",
       " 'mei',\n",
       " 'quas',\n",
       " 'epicuri',\n",
       " 'no',\n",
       " 'vix',\n",
       " 'ea',\n",
       " 'errem',\n",
       " 'suscipiantur',\n",
       " 'Quaeque',\n",
       " 'necessitatibus',\n",
       " 'et',\n",
       " 'his',\n",
       " 'Has',\n",
       " 'at',\n",
       " 'soluta',\n",
       " 'facilis',\n",
       " 'Ne',\n",
       " 'eripuit',\n",
       " 'minimum',\n",
       " 'qui',\n",
       " 'malis',\n",
       " 'partiendo',\n",
       " 'liberavisse',\n",
       " 'in',\n",
       " 'est',\n",
       " 'eum',\n",
       " 'quem',\n",
       " 'alterum',\n",
       " 'ex',\n",
       " 'Eum',\n",
       " 'et',\n",
       " 'aliquando',\n",
       " 'interesset',\n",
       " 'cum',\n",
       " 'an',\n",
       " 'vidisse',\n",
       " 'adversarium',\n",
       " 'neglegentur',\n",
       " 'Vel',\n",
       " 'aliquip',\n",
       " 'tincidunt',\n",
       " 'adversarium',\n",
       " 'no',\n",
       " 'Oporteat',\n",
       " 'perfecto',\n",
       " 'antiopam',\n",
       " 'ei',\n",
       " 'vel',\n",
       " 'ex',\n",
       " 'sed',\n",
       " 'dissentiet',\n",
       " 'signiferumque',\n",
       " 'Tempor',\n",
       " 'perpetua',\n",
       " 'at',\n",
       " 'mea',\n",
       " 'usu',\n",
       " 'laudem',\n",
       " 'vocent',\n",
       " 'reformidans',\n",
       " 'at',\n",
       " 'No',\n",
       " 'quo',\n",
       " 'feugait',\n",
       " 'propriae',\n",
       " 'laboramus',\n",
       " 'veri',\n",
       " 'prima',\n",
       " 'graece',\n",
       " 'id',\n",
       " 'vix',\n",
       " 'an',\n",
       " 'eius',\n",
       " 'petentium',\n",
       " 'vis',\n",
       " 'Est',\n",
       " 'odio',\n",
       " 'minim',\n",
       " 'mucius',\n",
       " 'id',\n",
       " 'volumus',\n",
       " 'verterem',\n",
       " 'ius',\n",
       " 'id',\n",
       " 'Eu',\n",
       " 'paulo',\n",
       " 'lucilius',\n",
       " 'eleifend',\n",
       " 'vim',\n",
       " 'case',\n",
       " 'electram',\n",
       " 'moderatius',\n",
       " 'sea',\n",
       " 'id',\n",
       " 'Nec',\n",
       " 'semper',\n",
       " 'expetenda',\n",
       " 'in',\n",
       " 'Has',\n",
       " 'no',\n",
       " 'quem',\n",
       " 'laudem',\n",
       " 'alienum',\n",
       " 'ei',\n",
       " 'iriure',\n",
       " 'vidisse',\n",
       " 'disputationi',\n",
       " 'has',\n",
       " 'at',\n",
       " 'sint',\n",
       " 'lucilius',\n",
       " 'vel',\n",
       " 'Ad',\n",
       " 'nihil',\n",
       " 'labitur',\n",
       " 'prodesset',\n",
       " 'mei',\n",
       " 'ad',\n",
       " 'dicat',\n",
       " 'noluisse',\n",
       " 'cum',\n",
       " 'Has',\n",
       " 'cetero',\n",
       " 'placerat',\n",
       " 'eu',\n",
       " 'pro',\n",
       " 'fuisset',\n",
       " 'repudiare',\n",
       " 'at',\n",
       " 'Diceret',\n",
       " 'mediocrem',\n",
       " 'concludaturque',\n",
       " 'mea',\n",
       " 'id',\n",
       " 'est',\n",
       " 'aliquam',\n",
       " 'salutandi',\n",
       " 'euripidis',\n",
       " 'in',\n",
       " 'Ne',\n",
       " 'qui',\n",
       " 'nihil',\n",
       " 'tacimates',\n",
       " 'paulo',\n",
       " 'periculis',\n",
       " 'instructior',\n",
       " 'et',\n",
       " 'sea']"
      ]
     },
     "execution_count": 31,
     "metadata": {},
     "output_type": "execute_result"
    }
   ],
   "source": [
    "post_punctuation"
   ]
  },
  {
   "cell_type": "code",
   "execution_count": 32,
   "metadata": {},
   "outputs": [
    {
     "data": {
      "text/plain": [
       "276"
      ]
     },
     "execution_count": 32,
     "metadata": {},
     "output_type": "execute_result"
    }
   ],
   "source": [
    "len(post_punctuation)"
   ]
  },
  {
   "cell_type": "code",
   "execution_count": 33,
   "metadata": {},
   "outputs": [],
   "source": [
    "sent=\"I love iron man 3000 times\"\n",
    "sent_token=word_tokenize(sent)"
   ]
  },
  {
   "cell_type": "code",
   "execution_count": 34,
   "metadata": {},
   "outputs": [
    {
     "data": {
      "text/plain": [
       "['I', 'love', 'iron', 'man', '3000', 'times']"
      ]
     },
     "execution_count": 34,
     "metadata": {},
     "output_type": "execute_result"
    }
   ],
   "source": [
    "sent_token"
   ]
  },
  {
   "cell_type": "code",
   "execution_count": 35,
   "metadata": {},
   "outputs": [
    {
     "name": "stdout",
     "output_type": "stream",
     "text": [
      "[('I', 'PRP')]\n",
      "[('love', 'NN')]\n",
      "[('iron', 'NN')]\n",
      "[('man', 'NN')]\n",
      "[('3000', 'CD')]\n",
      "[('times', 'NNS')]\n"
     ]
    }
   ],
   "source": [
    "for token in sent_token:\n",
    "    print(nltk.pos_tag([token]))"
   ]
  },
  {
   "cell_type": "code",
   "execution_count": 36,
   "metadata": {},
   "outputs": [],
   "source": [
    "from nltk import ne_chunk"
   ]
  },
  {
   "cell_type": "code",
   "execution_count": 37,
   "metadata": {},
   "outputs": [],
   "source": [
    "ne_sent=\"Google's CEO Sundar Pichai introduced a new Pixel at Minnesota Roi Centre Event \""
   ]
  },
  {
   "cell_type": "code",
   "execution_count": 38,
   "metadata": {},
   "outputs": [],
   "source": [
    "ne_token=word_tokenize(ne_sent)\n",
    "ne_tags=nltk.pos_tag(ne_token)"
   ]
  },
  {
   "cell_type": "code",
   "execution_count": 39,
   "metadata": {},
   "outputs": [
    {
     "data": {
      "text/plain": [
       "[('Google', 'NNP'),\n",
       " (\"'s\", 'POS'),\n",
       " ('CEO', 'NNP'),\n",
       " ('Sundar', 'NNP'),\n",
       " ('Pichai', 'NNP'),\n",
       " ('introduced', 'VBD'),\n",
       " ('a', 'DT'),\n",
       " ('new', 'JJ'),\n",
       " ('Pixel', 'NNP'),\n",
       " ('at', 'IN'),\n",
       " ('Minnesota', 'NNP'),\n",
       " ('Roi', 'NNP'),\n",
       " ('Centre', 'NNP'),\n",
       " ('Event', 'NNP')]"
      ]
     },
     "execution_count": 39,
     "metadata": {},
     "output_type": "execute_result"
    }
   ],
   "source": [
    "ne_tags"
   ]
  },
  {
   "cell_type": "code",
   "execution_count": 40,
   "metadata": {},
   "outputs": [
    {
     "name": "stdout",
     "output_type": "stream",
     "text": [
      "(S\n",
      "  (GPE Google/NNP)\n",
      "  's/POS\n",
      "  (ORGANIZATION CEO/NNP Sundar/NNP Pichai/NNP)\n",
      "  introduced/VBD\n",
      "  a/DT\n",
      "  new/JJ\n",
      "  Pixel/NNP\n",
      "  at/IN\n",
      "  (ORGANIZATION Minnesota/NNP Roi/NNP Centre/NNP)\n",
      "  Event/NNP)\n"
     ]
    }
   ],
   "source": [
    "ne_ner=ne_chunk(ne_tags)\n",
    "print(ne_ner)"
   ]
  },
  {
   "cell_type": "code",
   "execution_count": 41,
   "metadata": {},
   "outputs": [],
   "source": [
    "new=\"the big cat eat the little mouse who was after fresh cheese\""
   ]
  },
  {
   "cell_type": "code",
   "execution_count": 42,
   "metadata": {},
   "outputs": [
    {
     "data": {
      "text/plain": [
       "[('the', 'DT'),\n",
       " ('big', 'JJ'),\n",
       " ('cat', 'NN'),\n",
       " ('eat', 'VBD'),\n",
       " ('the', 'DT'),\n",
       " ('little', 'JJ'),\n",
       " ('mouse', 'NN'),\n",
       " ('who', 'WP'),\n",
       " ('was', 'VBD'),\n",
       " ('after', 'IN'),\n",
       " ('fresh', 'JJ'),\n",
       " ('cheese', 'NN')]"
      ]
     },
     "execution_count": 42,
     "metadata": {},
     "output_type": "execute_result"
    }
   ],
   "source": [
    "new_token=nltk.pos_tag(word_tokenize(new))\n",
    "new_token"
   ]
  }
 ],
 "metadata": {
  "kernelspec": {
   "display_name": "Python 3",
   "language": "python",
   "name": "python3"
  },
  "language_info": {
   "codemirror_mode": {
    "name": "ipython",
    "version": 3
   },
   "file_extension": ".py",
   "mimetype": "text/x-python",
   "name": "python",
   "nbconvert_exporter": "python",
   "pygments_lexer": "ipython3",
   "version": "3.7.3"
  }
 },
 "nbformat": 4,
 "nbformat_minor": 2
}
